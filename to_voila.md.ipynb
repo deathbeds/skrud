{
 "cells": [
  {
   "cell_type": "code",
   "execution_count": 1,
   "metadata": {},
   "outputs": [],
   "source": [
    "    import importnb, pidgin, nbformat, annodize, IPython, ipywidgets, textwrap\n",
    "    with pidgin.Pidgin(): import tpl"
   ]
  },
  {
   "cell_type": "code",
   "execution_count": 2,
   "metadata": {},
   "outputs": [],
   "source": [
    "    def pidgin_to_voila(from_, to):\n",
    "        with open(from_) as file: nb = nbformat.read(file, 4)\n",
    "        links = \"\"\"if 'interface' not in globals(): interface =  __import__('annodize').Interface()\\n\"\"\"\n",
    "        for cell in nb.cells:\n",
    "            if '{'*2 in ''.join(cell['source']):\n",
    "                if cell['cell_type'] == 'code':\n",
    "                    if cell['outputs']:\n",
    "                        template = tpl.Template(''.join(cell['source']))\n",
    "                        with IPython.utils.capture.capture_output() as out:\n",
    "                            IPython.display.display(template)\n",
    "                        cell['outputs'][0].data.update(out.outputs[0].data)\n",
    "                        cell['source'] = F\"\"\"\n",
    "        {cell['source']}\n",
    "\n",
    "            _model_{template.model_id} = tpl.Template('''{cell['source']}'''); _model_{template.model_id}\"\"\"\n",
    "                        cell['source'] = __import__('pidgin').specification.transform_cell.markdown_to_python(cell['source'])\n",
    "\n",
    "                        for k in template.unnamed_references:\n",
    "                            links += F\"\"\"__import__('traitlets').dlink((interface, '{k}'), (_model_{template.model_id}, '{k}'));\\n\"\"\"\n",
    "\n",
    "        nb.cells.insert(0, nbformat.v4.new_code_cell(\"\"\"    with __import__('pidgin').Pidgin():import tpl\"\"\"))\n",
    "        nb.cells.append(nbformat.v4.new_code_cell(textwrap.indent(links, \"    \")))\n",
    "        with open(to, 'w') as file: nbformat.write(nb, file)"
   ]
  }
 ],
 "metadata": {
  "kernelspec": {
   "display_name": "p6",
   "language": "python",
   "name": "other-env"
  },
  "language_info": {
   "codemirror_mode": {
    "name": "ipython",
    "version": 3
   },
   "file_extension": ".py",
   "mimetype": "text/x-python",
   "name": "python",
   "nbconvert_exporter": "python",
   "pygments_lexer": "ipython3",
   "version": "3.6.8"
  }
 },
 "nbformat": 4,
 "nbformat_minor": 4
}

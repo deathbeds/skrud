{
 "cells": [
  {
   "cell_type": "code",
   "execution_count": 1,
   "metadata": {
    "jupyter": {
     "source_hidden": true
    }
   },
   "outputs": [],
   "source": [
    "    %reload_ext pidgin"
   ]
  },
  {
   "cell_type": "code",
   "execution_count": 2,
   "metadata": {
    "jupyter": {
     "source_hidden": true
    }
   },
   "outputs": [
    {
     "data": {
      "text/html": [
       "<hr/>\n",
       "\n",
       "<p><a href=\"https://github.com/deathbeds\"><img src=\"https://github.com/deathbeds.png\" alt=\"\"></a></p>\n",
       "<a href=\"#the-a-href-https-github-com-deathbeds-skrud-Skrud-a-a-href-https-github-com-deathbeds-the-skrud-demo-demo-a\"><h2 id=\"the-a-href-https-github-com-deathbeds-skrud-Skrud-a-a-href-https-github-com-deathbeds-the-skrud-demo-demo-a\">the <a href=\"https://github.com/deathbeds/skrud\">Skrud</a> <a href=\"https://github.com/deathbeds/the_skrud_demo\">demo</a></h2></a><hr>\n",
       "<a href=\"#Track-Listing\"><h3 id=\"Track-Listing\">Track Listing</h3></a><ol>\n",
       "<li><p><a href=\"STANDARDS.ipynb\"><del>INTRO</del>STANDARDS<del>INTRO</del></a></p>\n",
       "</li>\n",
       "<li><p><a href=\"RIGHT\\ SIDE\\ OF\\ THE\\ TRACKS.ipynb\">RIGHT SIDE OF THE TRACKS</a></p>\n",
       "</li>\n",
       "<li><p><a href=\"https://github.com/deathbeds/skrud\">NOT GETTING ENOUGH REST</a></p>\n",
       "</li>\n",
       "<li><p><a href=\"UP\\ THE\\ SKRUDS.ipynb\">UP THE SKRUDS</a></p>\n",
       "</li>\n",
       "</ol>\n",
       "<hr>\n",
       "<p>Directed by <a href=\"https://github.com/dcharbon\">David Charboneau</a></p>\n",
       "<hr>\n",
       "<p>Produced by <img style=\"height: 50px;\" src=\"https://static.wixstatic.com/media/095d2c_2508c560e87d436ea00357abc404cf1d~mv2.png/v1/crop/x_0,y_9,w_915,h_329/fill/w_382,h_132,al_c,q_80,usm_0.66_1.00_0.01/095d2c_2508c560e87d436ea00357abc404cf1d~mv2.webp\"/> LLC</p>\n",
       "<hr>\n"
      ],
      "text/plain": [
       "<IPython.core.display.HTML object>"
      ]
     },
     "metadata": {},
     "output_type": "display_data"
    }
   ],
   "source": [
    "<hr/>\n",
    "\n",
    "[![]({{deathbeds}}.png)][deathbeds]\n",
    "\n",
    "## the [Skrud]({{deathbeds}}/skrud) [demo]({{deathbeds}}/the_skrud_demo)\n",
    "\n",
    "---\n",
    "\n",
    "### Track Listing\n",
    "\n",
    "1. [~~INTRO~~STANDARDS~~INTRO~~](STANDARDS.ipynb)\n",
    "2. [RIGHT SIDE OF THE TRACKS](RIGHT\\ SIDE\\ OF\\ THE\\ TRACKS.ipynb)\n",
    "3. [NOT GETTING ENOUGH REST]({{deathbeds}}/skrud)\n",
    "4. [UP THE SKRUDS](UP\\ THE\\ SKRUDS.ipynb)\n",
    "\n",
    "---\n",
    "Directed by [David Charboneau][dcharbon]\n",
    "\n",
    "---\n",
    "Produced by <img style=\"height: 50px;\" src=\"{{\"quansight logo\"}}\"/> LLC \n",
    "\n",
    "---\n",
    "\n",
    "[quansight logo]: https://static.wixstatic.com/media/095d2c_2508c560e87d436ea00357abc404cf1d~mv2.png/v1/crop/x_0,y_9,w_915,h_329/fill/w_382,h_132,al_c,q_80,usm_0.66_1.00_0.01/095d2c_2508c560e87d436ea00357abc404cf1d~mv2.webp\n",
    "        \n",
    "[dcharbon]: https://github.com/dcharbon\n",
    "[deathbeds]: https://github.com/deathbeds"
   ]
  },
  {
   "cell_type": "code",
   "execution_count": 3,
   "metadata": {
    "jupyter": {
     "source_hidden": true
    }
   },
   "outputs": [
    {
     "data": {
      "text/html": [
       "<a href=\"#What-do-we-know\"><h1 id=\"What-do-we-know\">What do we know?</h1></a>"
      ],
      "text/plain": [
       "<IPython.core.display.HTML object>"
      ]
     },
     "metadata": {},
     "output_type": "display_data"
    }
   ],
   "source": [
    "# What do we know?"
   ]
  },
  {
   "cell_type": "code",
   "execution_count": 4,
   "metadata": {
    "jupyter": {
     "source_hidden": true
    }
   },
   "outputs": [
    {
     "data": {
      "text/html": [
       "\n",
       "        <iframe\n",
       "            width=\"100%\"\n",
       "            height=\"600px\"\n",
       "            src=\"https://en.m.wikipedia.org/w/index.php?title=Laws_of_thermodynamics&metadata=%7B%7D&mobileaction=toggle_view_mobile?metadata=%7B%7D\"\n",
       "            frameborder=\"0\"\n",
       "            allowfullscreen\n",
       "        ></iframe>\n",
       "        "
      ],
      "text/plain": [
       "<IPython.lib.display.IFrame at 0x107d172b0>"
      ]
     },
     "metadata": {},
     "output_type": "display_data"
    }
   ],
   "source": [
    "https://en.m.wikipedia.org/w/index.php?title=Laws_of_thermodynamics&metadata=%7B%7D&mobileaction=toggle_view_mobile"
   ]
  },
  {
   "cell_type": "code",
   "execution_count": 5,
   "metadata": {
    "jupyter": {
     "source_hidden": true
    }
   },
   "outputs": [
    {
     "data": {
      "text/html": [
       "<a href=\"#Everyone-has-data\"><h1 id=\"Everyone-has-data\">Everyone has data!</h1></a>"
      ],
      "text/plain": [
       "<IPython.core.display.HTML object>"
      ]
     },
     "metadata": {},
     "output_type": "display_data"
    }
   ],
   "source": [
    "# Everyone has data!"
   ]
  },
  {
   "cell_type": "code",
   "execution_count": 6,
   "metadata": {
    "jupyter": {
     "source_hidden": true
    }
   },
   "outputs": [],
   "source": [
    "    import pandas, json, IPython"
   ]
  },
  {
   "cell_type": "code",
   "execution_count": 7,
   "metadata": {
    "jupyter": {
     "source_hidden": true
    }
   },
   "outputs": [
    {
     "data": {
      "text/html": [
       "<a href=\"#Standards\"><h1 id=\"Standards\">Standards</h1></a><ul>\n",
       "<li><a href=\"#a-href-https-en-wikipedia-org-wiki-ACM-Software-System-Award-ACM-Software-System-Award-Winners-a\"><h2 id=\"a-href-https-en-wikipedia-org-wiki-ACM-Software-System-Award-ACM-Software-System-Award-Winners-a\"><a href=\"https://en.wikipedia.org/wiki/ACM_Software_System_Award\">ACM Software System Award Winners</a></h2></a></li>\n",
       "<li><a href=\"#strong-a-href-https-www-w3-org-w3c-a-strong\"><h2 id=\"strong-a-href-https-www-w3-org-w3c-a-strong\"><strong><a href=\"https://www.w3.org/\">w3c</a></strong></h2></a></li>\n",
       "<li><a href=\"#strong-a-href-https-www-ietf-org-ietf-a-strong\"><h2 id=\"strong-a-href-https-www-ietf-org-ietf-a-strong\"><strong><a href=\"https://www.ietf.org\">ietf</a></strong></h2></a></li>\n",
       "<li><a href=\"#a-href-https-python-org-python-a\"><h2 id=\"a-href-https-python-org-python-a\"><a href=\"https://python.org\">python</a></h2></a></li>\n",
       "<li><a href=\"#a-href-https-ipython-org-ipython-a\"><h2 id=\"a-href-https-ipython-org-ipython-a\"><a href=\"https://ipython.org\">ipython</a></h2></a></li>\n",
       "</ul>\n"
      ],
      "text/plain": [
       "<IPython.core.display.HTML object>"
      ]
     },
     "metadata": {},
     "output_type": "display_data"
    }
   ],
   "source": [
    "# Standards\n",
    "* ## [ACM Software System Award Winners][awards]\n",
    "* ## __[w3c]__\n",
    "* ## __[ietf]__\n",
    "* ## [python]\n",
    "* ## [ipython]\n",
    "\n",
    "[awards]: https://en.wikipedia.org/wiki/ACM_Software_System_Award\n",
    "[w3c]: https://www.w3.org/\n",
    "[python]: https://python.org\n",
    "[ipython]: https://ipython.org\n",
    "[ietf]: https://www.ietf.org"
   ]
  },
  {
   "cell_type": "code",
   "execution_count": 8,
   "metadata": {
    "jupyter": {
     "source_hidden": true
    }
   },
   "outputs": [
    {
     "data": {
      "text/html": [
       "<a href=\"#a-href-https-en-wikipedia-org-wiki-ACM-Software-System-Award-ACM-Software-System-Award-Winners-a\"><h2 id=\"a-href-https-en-wikipedia-org-wiki-ACM-Software-System-Award-ACM-Software-System-Award-Winners-a\"><a href=\"https://en.wikipedia.org/wiki/ACM_Software_System_Award\">ACM Software System Award Winners</a></h2></a><div>\n",
       "<style scoped>\n",
       "    .dataframe tbody tr th:only-of-type {\n",
       "        vertical-align: middle;\n",
       "    }\n",
       "\n",
       "    .dataframe tbody tr th {\n",
       "        vertical-align: top;\n",
       "    }\n",
       "\n",
       "    .dataframe thead th {\n",
       "        text-align: right;\n",
       "    }\n",
       "</style>\n",
       "<table border=\"1\" class=\"dataframe\">\n",
       "  <thead>\n",
       "    <tr style=\"text-align: right;\">\n",
       "      <th></th>\n",
       "      <th>Year</th>\n",
       "      <th>Recipients</th>\n",
       "    </tr>\n",
       "    <tr>\n",
       "      <th>Project</th>\n",
       "      <th></th>\n",
       "      <th></th>\n",
       "    </tr>\n",
       "  </thead>\n",
       "  <tbody>\n",
       "    <tr>\n",
       "      <th>UNIX</th>\n",
       "      <td>1983</td>\n",
       "      <td>Dennis Ritchie, Ken Thompson</td>\n",
       "    </tr>\n",
       "    <tr>\n",
       "      <th>VisiCalc</th>\n",
       "      <td>1985</td>\n",
       "      <td>Dan Bricklin, Bob Frankston</td>\n",
       "    </tr>\n",
       "    <tr>\n",
       "      <th>TeX</th>\n",
       "      <td>1986</td>\n",
       "      <td>Donald E. Knuth</td>\n",
       "    </tr>\n",
       "    <tr>\n",
       "      <th>Smalltalk</th>\n",
       "      <td>1987</td>\n",
       "      <td>Adele Goldberg, Daniel Henry Holmes Ingalls, J...</td>\n",
       "    </tr>\n",
       "    <tr>\n",
       "      <th>World Wide Web</th>\n",
       "      <td>1995</td>\n",
       "      <td>Tim Berners-Lee, Robert Cailliau</td>\n",
       "    </tr>\n",
       "    <tr>\n",
       "      <th>Eclipse</th>\n",
       "      <td>2011</td>\n",
       "      <td>John Wiegand, Dave Thomson, Gregory Adams, Phi...</td>\n",
       "    </tr>\n",
       "    <tr>\n",
       "      <th>Project Jupyter</th>\n",
       "      <td>2017</td>\n",
       "      <td>Fernando Pérez, Brian E. Granger, Min Ragan-Ke...</td>\n",
       "    </tr>\n",
       "  </tbody>\n",
       "</table>\n",
       "</div><table class=\"highlighttable\"><tr><td><div class=\"linenodiv\" style=\"background-color: #f0f0f0; padding-right: 10px\"><pre style=\"line-height: 125%\">72</pre></div></td><td style=\"text-align: left;\" class=\"code\"><div class=\"highlight\" style=\"background: #f8f8f8\"><pre style=\"line-height: 125%\"><span></span>award_frame <span style=\"color: #666666\">=</span> pandas<span style=\"color: #666666\">.</span>read_html(awards)[<span style=\"color: #666666\">0</span>]<span style=\"color: #666666\">.</span>set_index(<span style=\"color: #BA2121\">&#39;Project&#39;</span>)\n",
       "</pre></div>\n",
       "</td></tr></table>"
      ],
      "text/plain": [
       "<IPython.core.display.HTML object>"
      ]
     },
     "metadata": {},
     "output_type": "display_data"
    }
   ],
   "source": [
    "## [ACM Software System Award Winners][awards]\n",
    "\n",
    "{{award_frame.loc[\"UNIX,VisiCalc,TeX,Smalltalk,World Wide Web,Eclipse,Project Jupyter\".split(',')]}}\n",
    "\n",
    "[awards]: https://en.wikipedia.org/wiki/ACM_Software_System_Award\n",
    "        \n",
    "    award_frame = pandas.read_html(awards)[0].set_index('Project')\n",
    "    "
   ]
  },
  {
   "cell_type": "code",
   "execution_count": 9,
   "metadata": {
    "jupyter": {
     "source_hidden": true
    }
   },
   "outputs": [
    {
     "data": {
      "text/html": [
       "<a href=\"#W3C-standards\"><h2 id=\"W3C-standards\">W3C standards</h2></a><ul>\n",
       "<li><p><a href=\"https://www.w3.org/2018/json-ld-wg/\">json_ld</a></p>\n",
       "</li>\n",
       "<li><p><a href=\"https://www.w3.org/TR/rdfa-core/\">rdfa</a></p>\n",
       "</li>\n",
       "<li><p><a href=\"https://www.w3.org/ns/json-schema\">schema</a></p>\n",
       "</li>\n",
       "<li><p><a href=\"https://www.w3.org/TR/rdf-sparql-query/\">sparql</a></p>\n",
       "</li>\n",
       "<li><p><a href=\"https://www.w3.org/Submission/SA-REST/\">rest</a></p>\n",
       "</li>\n",
       "</ul>\n",
       "<blockquote><p><span class=\"highlight\"><code style=\"display: inline-block; vertical-align: middle; line-height: 125%\"><span></span>json\n",
       "</code></span> schema is still a draft.</p>\n",
       "</blockquote>\n"
      ],
      "text/plain": [
       "<IPython.core.display.HTML object>"
      ]
     },
     "metadata": {},
     "output_type": "display_data"
    }
   ],
   "source": [
    "## W3C standards\n",
    "\n",
    "* [json_ld]\n",
    "* [rdfa]\n",
    "* [schema]\n",
    "* [sparql]\n",
    "* [rest]\n",
    "\n",
    "> `json` schema is still a draft.\n",
    "\n",
    "[json_ld]: https://www.w3.org/2018/json-ld-wg/\n",
    "[rdfa]: https://www.w3.org/TR/rdfa-core/\n",
    "[schema]: https://www.w3.org/ns/json-schema\n",
    "[sparql]: https://www.w3.org/TR/rdf-sparql-query/\n",
    "[rest]: https://www.w3.org/Submission/SA-REST/\n",
    " "
   ]
  },
  {
   "cell_type": "code",
   "execution_count": 10,
   "metadata": {},
   "outputs": [
    {
     "data": {
      "text/html": [
       "<a href=\"#a-href-https-www-ietf-org-Internet-Engineering-Task-Force-a\"><h2 id=\"a-href-https-www-ietf-org-Internet-Engineering-Task-Force-a\"><a href=\"https://www.ietf.org\">Internet Engineering Task Force</a></h2></a><ul>\n",
       "<li><p><a href=\"https://tools.ietf.org/html/rfc8288\">Web Linking</a></p>\n",
       "</li>\n",
       "<li><p><a href=\"https://www.ietf.org/rfc/rfc2616.txt\" title=\"edited\">HTTP</a></p>\n",
       "</li>\n",
       "</ul>\n"
      ],
      "text/plain": [
       "<IPython.core.display.HTML object>"
      ]
     },
     "metadata": {},
     "output_type": "display_data"
    }
   ],
   "source": [
    "## [Internet Engineering Task Force][ietf]\n",
    "\n",
    "* [Web Linking]\n",
    "* [HTTP]\n",
    "\n",
    "[Web Linking]: https://tools.ietf.org/html/rfc8288\n",
    "[HTTP]: https://www.ietf.org/rfc/rfc2616.txt (edited) "
   ]
  },
  {
   "cell_type": "code",
   "execution_count": 11,
   "metadata": {
    "jupyter": {
     "source_hidden": true
    }
   },
   "outputs": [
    {
     "data": {
      "text/html": [
       "<a href=\"#Python-standards\"><h2 id=\"Python-standards\">Python standards</h2></a><ul>\n",
       "<li><p><a href=\"https://www.python.org/dev/peps/pep-0484/\">PEP 484 -- Type Hints</a></p>\n",
       "</li>\n",
       "<li><p><a href=\"https://www.python.org/dev/peps/pep-0492/#id51\">PEP 492 -- Coroutines with async and await syntax</a></p>\n",
       "</li>\n",
       "</ul>\n"
      ],
      "text/plain": [
       "<IPython.core.display.HTML object>"
      ]
     },
     "metadata": {},
     "output_type": "display_data"
    }
   ],
   "source": [
    "## Python standards\n",
    "\n",
    "* [PEP 484 -- Type Hints][pep0484]\n",
    "* [PEP 492 -- Coroutines with async and await syntax][pep0492]\n",
    "\n",
    "[pep0492]: https://www.python.org/dev/peps/pep-0492/#id51\n",
    "[pep0484]: https://www.python.org/dev/peps/pep-0484/"
   ]
  },
  {
   "cell_type": "code",
   "execution_count": 12,
   "metadata": {
    "jupyter": {
     "source_hidden": true
    }
   },
   "outputs": [],
   "source": [
    "    import jupyterlab.labapp"
   ]
  },
  {
   "cell_type": "code",
   "execution_count": 13,
   "metadata": {
    "jupyter": {
     "source_hidden": true
    }
   },
   "outputs": [
    {
     "data": {
      "text/html": [
       "<a href=\"#IPython-standards\"><h2 id=\"IPython-standards\">IPython standards</h2></a><table class=\"highlighttable\"><tr><td><div class=\"linenodiv\" style=\"background-color: #f0f0f0; padding-right: 10px\"><pre style=\"line-height: 125%\">3</pre></div></td><td style=\"text-align: left;\" class=\"code\"><div class=\"highlight\" style=\"background: #f8f8f8\"><pre style=\"line-height: 125%\"><span></span><span style=\"color: #008000; font-weight: bold\">import</span> <span style=\"color: #0000FF; font-weight: bold\">ipywidgets</span><span style=\"color: #666666\">,</span> <span style=\"color: #0000FF; font-weight: bold\">traitlets</span><span style=\"color: #666666\">,</span> <span style=\"color: #0000FF; font-weight: bold\">jupyterlab</span>\n",
       "</pre></div>\n",
       "</td></tr></table><p>All the important interactive features of the notebook are <span class=\"highlight\"><code style=\"display: inline-block; vertical-align: middle; line-height: 125%\"><span></span>traitlets\n",
       "</code></span></p>\n",
       "<ul>\n",
       "<li><p><span class=\"highlight\"><code style=\"display: inline-block; vertical-align: middle; line-height: 125%\"><span></span>traitlets\n",
       "</code></span></p>\n",
       "</li>\n",
       "<li><p><span class=\"highlight\"><code style=\"display: inline-block; vertical-align: middle; line-height: 125%\"><span></span>IPython<span style=\"color: #666666\">.</span>InteractiveShell\n",
       "</code></span></p>\n",
       "<pre><code>  &gt;&gt;&gt; assert issubclass(IPython.InteractiveShell, traitlets.HasTraits)\n",
       "</code></pre>\n",
       "<pre><code>  &gt;&gt;&gt; assert isinstance(get_ipython(), IPython.InteractiveShell)\n",
       "</code></pre>\n",
       "</li>\n",
       "</ul>\n",
       "<ul>\n",
       "<li><p><span class=\"highlight\"><code style=\"display: inline-block; vertical-align: middle; line-height: 125%\"><span></span>jupyterlab\n",
       "</code></span></p>\n",
       "<pre><code>  &gt;&gt;&gt; assert issubclass(jupyterlab.labapp.LabApp, traitlets.HasTraits)\n",
       "</code></pre>\n",
       "</li>\n",
       "</ul>\n",
       "<ul>\n",
       "<li><p><span class=\"highlight\"><code style=\"display: inline-block; vertical-align: middle; line-height: 125%\"><span></span>ipywidgets\n",
       "</code></span></p>\n",
       "<pre><code>  &gt;&gt;&gt; assert issubclass(ipywidgets.Widget, traitlets.HasTraits)\n",
       "</code></pre>\n",
       "</li>\n",
       "</ul>\n"
      ],
      "text/plain": [
       "<IPython.core.display.HTML object>"
      ]
     },
     "metadata": {},
     "output_type": "display_data"
    }
   ],
   "source": [
    "## IPython standards\n",
    "\n",
    "    import ipywidgets, traitlets, jupyterlab\n",
    "    \n",
    "All the important interactive features of the notebook are `traitlets`\n",
    "    \n",
    "* `traitlets`\n",
    "* `IPython.InteractiveShell`\n",
    "\n",
    "    >>> assert issubclass(IPython.InteractiveShell, traitlets.HasTraits)\n",
    "    >>> assert isinstance(get_ipython(), IPython.InteractiveShell)\n",
    "    \n",
    "    \n",
    "* `jupyterlab`\n",
    "    \n",
    "    >>> assert issubclass(jupyterlab.labapp.LabApp, traitlets.HasTraits)\n",
    "\n",
    "\n",
    "* `ipywidgets`\n",
    "\n",
    "    >>> assert issubclass(ipywidgets.Widget, traitlets.HasTraits)"
   ]
  },
  {
   "cell_type": "code",
   "execution_count": 14,
   "metadata": {
    "jupyter": {
     "source_hidden": true
    }
   },
   "outputs": [
    {
     "data": {
      "text/html": [
       "<a href=\"#Hypotheses\"><h3 id=\"Hypotheses\">Hypotheses</h3></a><ul>\n",
       "<li><a href=\"#Models-should-be-reused-more\"><h2 id=\"Models-should-be-reused-more\">Models should be reused more</h2></a></li>\n",
       "<li><a href=\"#Interactive-compute-rests-as-opaque-types\"><h2 id=\"Interactive-compute-rests-as-opaque-types\">Interactive compute rests as opaque types</h2></a></li>\n",
       "<li><a href=\"#Opaque-types-can-be-many-ways\"><h2 id=\"Opaque-types-can-be-many-ways\">Opaque types can be many ways</h2></a></li>\n",
       "<li><a href=\"#Eniched-interactive-computing-can-improve-opaque-and-semantic-typing-practices\"><h2 id=\"Eniched-interactive-computing-can-improve-opaque-and-semantic-typing-practices\">Eniched interactive computing can improve opaque and semantic typing practices</h2></a></li>\n",
       "<li><a href=\"#Mitigating-redundancy-can-accelerate-innovation\"><h2 id=\"Mitigating-redundancy-can-accelerate-innovation\">Mitigating redundancy can accelerate innovation</h2></a></li>\n",
       "</ul>\n",
       "<?xml version=\"1.0\" encoding=\"UTF-8\" standalone=\"no\"?>\n",
       "<!DOCTYPE svg PUBLIC \"-//W3C//DTD SVG 1.1//EN\"\n",
       " \"http://www.w3.org/Graphics/SVG/1.1/DTD/svg11.dtd\">\n",
       "<!-- Generated by graphviz version 2.38.0 (20140413.2041)\n",
       " -->\n",
       "<!-- Title: %3 Pages: 1 -->\n",
       "<svg width=\"192pt\" height=\"203pt\"\n",
       " viewBox=\"0.00 0.00 191.86 203.00\" xmlns=\"http://www.w3.org/2000/svg\" xmlns:xlink=\"http://www.w3.org/1999/xlink\">\n",
       "<g id=\"graph0\" class=\"graph\" transform=\"scale(1 1) rotate(0) translate(4 199)\">\n",
       "<title>%3</title>\n",
       "<polygon fill=\"white\" stroke=\"none\" points=\"-4,4 -4,-199 187.856,-199 187.856,4 -4,4\"/>\n",
       "<!-- type hints -->\n",
       "<g id=\"node1\" class=\"node\"><title>type hints</title>\n",
       "<ellipse fill=\"none\" stroke=\"black\" cx=\"44.7423\" cy=\"-177\" rx=\"44.9859\" ry=\"18\"/>\n",
       "<text text-anchor=\"middle\" x=\"44.7423\" y=\"-172.8\" font-family=\"Times,serif\" font-size=\"14.00\">type hints</text>\n",
       "</g>\n",
       "<!-- Interactive Typing -->\n",
       "<g id=\"node3\" class=\"node\"><title>Interactive Typing</title>\n",
       "<ellipse fill=\"none\" stroke=\"black\" cx=\"94.7423\" cy=\"-104\" rx=\"74.7913\" ry=\"18\"/>\n",
       "<text text-anchor=\"middle\" x=\"94.7423\" y=\"-99.8\" font-family=\"Times,serif\" font-size=\"14.00\">Interactive Typing</text>\n",
       "</g>\n",
       "<!-- type hints&#45;&gt;Interactive Typing -->\n",
       "<g id=\"edge1\" class=\"edge\"><title>type hints&#45;&gt;Interactive Typing</title>\n",
       "<path fill=\"none\" stroke=\"black\" d=\"M56.339,-159.533C62.4973,-150.788 70.1961,-139.856 77.0804,-130.08\"/>\n",
       "<polygon fill=\"black\" stroke=\"black\" points=\"79.9651,-132.062 82.8613,-121.871 74.2418,-128.032 79.9651,-132.062\"/>\n",
       "</g>\n",
       "<!-- IPython -->\n",
       "<g id=\"node2\" class=\"node\"><title>IPython</title>\n",
       "<ellipse fill=\"none\" stroke=\"black\" cx=\"145.742\" cy=\"-177\" rx=\"38.2284\" ry=\"18\"/>\n",
       "<text text-anchor=\"middle\" x=\"145.742\" y=\"-172.8\" font-family=\"Times,serif\" font-size=\"14.00\">IPython</text>\n",
       "</g>\n",
       "<!-- IPython&#45;&gt;Interactive Typing -->\n",
       "<g id=\"edge2\" class=\"edge\"><title>IPython&#45;&gt;Interactive Typing</title>\n",
       "<path fill=\"none\" stroke=\"black\" d=\"M133.914,-159.533C127.632,-150.788 119.779,-139.856 112.757,-130.08\"/>\n",
       "<polygon fill=\"black\" stroke=\"black\" points=\"115.538,-127.951 106.861,-121.871 109.852,-132.035 115.538,-127.951\"/>\n",
       "</g>\n",
       "<!-- Opaque Typing -->\n",
       "<g id=\"node4\" class=\"node\"><title>Opaque Typing</title>\n",
       "<ellipse fill=\"none\" stroke=\"black\" cx=\"94.7423\" cy=\"-18\" rx=\"64.6853\" ry=\"18\"/>\n",
       "<text text-anchor=\"middle\" x=\"94.7423\" y=\"-13.8\" font-family=\"Times,serif\" font-size=\"14.00\">Opaque Typing</text>\n",
       "</g>\n",
       "<!-- Interactive Typing&#45;&gt;Opaque Typing -->\n",
       "<g id=\"edge3\" class=\"edge\"><title>Interactive Typing&#45;&gt;Opaque Typing</title>\n",
       "<path fill=\"none\" stroke=\"black\" stroke-dasharray=\"5,2\" d=\"M94.7423,-85.5951C94.7423,-74.2572 94.7423,-59.2271 94.7423,-46.3153\"/>\n",
       "<polygon fill=\"black\" stroke=\"black\" points=\"98.2424,-46.0951 94.7423,-36.0952 91.2424,-46.0952 98.2424,-46.0951\"/>\n",
       "<text text-anchor=\"middle\" x=\"118.302\" y=\"-56.8\" font-family=\"Times,serif\" font-size=\"14.00\">@REST</text>\n",
       "</g>\n",
       "</g>\n",
       "</svg>\n"
      ],
      "text/plain": [
       "<IPython.core.display.HTML object>"
      ]
     },
     "metadata": {},
     "output_type": "display_data"
    }
   ],
   "source": [
    "### Hypotheses\n",
    "* ## Models should be reused more\n",
    "* ## Interactive compute rests as opaque types\n",
    "* ## Opaque types can be many ways\n",
    "* ## Eniched interactive computing can improve opaque and semantic typing practices\n",
    "* ## Mitigating redundancy can accelerate innovation\n",
    "\n",
    "digraph {\n",
    "    {\"type hints\" \"IPython\"}  -> \"Interactive Typing\"\n",
    "    \"Interactive Typing\" -> \"Opaque Typing\"[label=\"@REST\" style=dashed]\n",
    "}"
   ]
  },
  {
   "cell_type": "code",
   "execution_count": null,
   "metadata": {
    "jupyter": {
     "source_hidden": true
    }
   },
   "outputs": [],
   "source": []
  }
 ],
 "metadata": {
  "kernelspec": {
   "display_name": "p6",
   "language": "python",
   "name": "p6"
  },
  "language_info": {
   "codemirror_mode": {
    "name": "ipython",
    "version": 3
   },
   "file_extension": ".py",
   "mimetype": "text/x-python",
   "name": "python",
   "nbconvert_exporter": "python",
   "pygments_lexer": "ipython3",
   "version": "3.6.8"
  }
 },
 "nbformat": 4,
 "nbformat_minor": 4
}

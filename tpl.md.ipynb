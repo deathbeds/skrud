{
 "cells": [
  {
   "cell_type": "code",
   "execution_count": 3,
   "metadata": {},
   "outputs": [],
   "source": [
    "    import ipywidgets, jinja2.meta, IPython, traitlets, nbformat, annodize, textwrap"
   ]
  },
  {
   "cell_type": "code",
   "execution_count": 4,
   "metadata": {},
   "outputs": [],
   "source": [
    "    class Template(ipywidgets.HTML):\n",
    "        unnamed_references = traitlets.Set()\n",
    "        environment = traitlets.Instance(jinja2.Environment)\n",
    "        data = traitlets.Dict()\n",
    "        template = traitlets.Instance(jinja2.Template)\n",
    "        \n",
    "        def __init__(self, body, **data):\n",
    "            super().__init__(template=jinja2.Template(body), environment=jinja2.Environment())\n",
    "            self.unnamed_references = jinja2.meta.find_undeclared_variables(self.environment.parse(body))\n",
    "            self.data = data\n",
    "            self.add_traits(**{\n",
    "                k: traitlets.Any() for k in self.unnamed_references\n",
    "            })\n",
    "            self.observe(self._update_key, list(self.unnamed_references))\n",
    "                \n",
    "        def _update_key(self, change): \n",
    "            self.data[change['name']] = change['new']\n",
    "            self._update_data({'new': self.data})\n",
    "            \n",
    "        @traitlets.observe('data')\n",
    "        def _update_data(self, change):\n",
    "            self.value = self.template.render({k: v for k, v in change['new'].items() if k in self.unnamed_references})"
   ]
  },
  {
   "cell_type": "code",
   "execution_count": null,
   "metadata": {},
   "outputs": [],
   "source": []
  }
 ],
 "metadata": {
  "kernelspec": {
   "display_name": "p6",
   "language": "python",
   "name": "p6"
  },
  "language_info": {
   "codemirror_mode": {
    "name": "ipython",
    "version": 3
   },
   "file_extension": ".py",
   "mimetype": "text/x-python",
   "name": "python",
   "nbconvert_exporter": "python",
   "pygments_lexer": "ipython3",
   "version": "3.6.8"
  }
 },
 "nbformat": 4,
 "nbformat_minor": 4
}
